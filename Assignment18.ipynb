{
 "cells": [
  {
   "cell_type": "markdown",
   "id": "1e725df7",
   "metadata": {},
   "source": [
    "Assignment 18"
   ]
  },
  {
   "cell_type": "markdown",
   "id": "780e2eb0",
   "metadata": {},
   "source": [
    "Q1. List any five functions of the pandas library with execution."
   ]
  },
  {
   "cell_type": "code",
   "execution_count": 1,
   "id": "bb790b9e",
   "metadata": {},
   "outputs": [
    {
     "data": {
      "text/html": [
       "<div>\n",
       "<style scoped>\n",
       "    .dataframe tbody tr th:only-of-type {\n",
       "        vertical-align: middle;\n",
       "    }\n",
       "\n",
       "    .dataframe tbody tr th {\n",
       "        vertical-align: top;\n",
       "    }\n",
       "\n",
       "    .dataframe thead th {\n",
       "        text-align: right;\n",
       "    }\n",
       "</style>\n",
       "<table border=\"1\" class=\"dataframe\">\n",
       "  <thead>\n",
       "    <tr style=\"text-align: right;\">\n",
       "      <th></th>\n",
       "      <th>Name</th>\n",
       "      <th>Roll no</th>\n",
       "      <th>Age</th>\n",
       "      <th>Gender</th>\n",
       "    </tr>\n",
       "  </thead>\n",
       "  <tbody>\n",
       "    <tr>\n",
       "      <th>0</th>\n",
       "      <td>A</td>\n",
       "      <td>S01</td>\n",
       "      <td>20</td>\n",
       "      <td>Male</td>\n",
       "    </tr>\n",
       "    <tr>\n",
       "      <th>1</th>\n",
       "      <td>B</td>\n",
       "      <td>S02</td>\n",
       "      <td>21</td>\n",
       "      <td>Female</td>\n",
       "    </tr>\n",
       "    <tr>\n",
       "      <th>2</th>\n",
       "      <td>C</td>\n",
       "      <td>S03</td>\n",
       "      <td>22</td>\n",
       "      <td>Female</td>\n",
       "    </tr>\n",
       "    <tr>\n",
       "      <th>3</th>\n",
       "      <td>D</td>\n",
       "      <td>S04</td>\n",
       "      <td>23</td>\n",
       "      <td>Female</td>\n",
       "    </tr>\n",
       "    <tr>\n",
       "      <th>4</th>\n",
       "      <td>E</td>\n",
       "      <td>S05</td>\n",
       "      <td>21</td>\n",
       "      <td>Male</td>\n",
       "    </tr>\n",
       "    <tr>\n",
       "      <th>5</th>\n",
       "      <td>F</td>\n",
       "      <td>S06</td>\n",
       "      <td>24</td>\n",
       "      <td>Male</td>\n",
       "    </tr>\n",
       "    <tr>\n",
       "      <th>6</th>\n",
       "      <td>G</td>\n",
       "      <td>S07</td>\n",
       "      <td>25</td>\n",
       "      <td>Male</td>\n",
       "    </tr>\n",
       "    <tr>\n",
       "      <th>7</th>\n",
       "      <td>H</td>\n",
       "      <td>S08</td>\n",
       "      <td>19</td>\n",
       "      <td>Female</td>\n",
       "    </tr>\n",
       "    <tr>\n",
       "      <th>8</th>\n",
       "      <td>I</td>\n",
       "      <td>S09</td>\n",
       "      <td>24</td>\n",
       "      <td>Male</td>\n",
       "    </tr>\n",
       "    <tr>\n",
       "      <th>9</th>\n",
       "      <td>J</td>\n",
       "      <td>S10</td>\n",
       "      <td>22</td>\n",
       "      <td>Male</td>\n",
       "    </tr>\n",
       "  </tbody>\n",
       "</table>\n",
       "</div>"
      ],
      "text/plain": [
       "  Name Roll no  Age  Gender\n",
       "0    A     S01   20    Male\n",
       "1    B     S02   21  Female\n",
       "2    C     S03   22  Female\n",
       "3    D     S04   23  Female\n",
       "4    E     S05   21    Male\n",
       "5    F     S06   24    Male\n",
       "6    G     S07   25    Male\n",
       "7    H     S08   19  Female\n",
       "8    I     S09   24    Male\n",
       "9    J     S10   22    Male"
      ]
     },
     "execution_count": 1,
     "metadata": {},
     "output_type": "execute_result"
    }
   ],
   "source": [
    "#Ans:\n",
    "#1. read_csv()\n",
    "import pandas as pd\n",
    "df=pd.read_csv(\"test.csv\")\n",
    "df"
   ]
  },
  {
   "cell_type": "code",
   "execution_count": 2,
   "id": "6ec896bb",
   "metadata": {},
   "outputs": [
    {
     "data": {
      "text/html": [
       "<div>\n",
       "<style scoped>\n",
       "    .dataframe tbody tr th:only-of-type {\n",
       "        vertical-align: middle;\n",
       "    }\n",
       "\n",
       "    .dataframe tbody tr th {\n",
       "        vertical-align: top;\n",
       "    }\n",
       "\n",
       "    .dataframe thead th {\n",
       "        text-align: right;\n",
       "    }\n",
       "</style>\n",
       "<table border=\"1\" class=\"dataframe\">\n",
       "  <thead>\n",
       "    <tr style=\"text-align: right;\">\n",
       "      <th></th>\n",
       "      <th>Age</th>\n",
       "    </tr>\n",
       "  </thead>\n",
       "  <tbody>\n",
       "    <tr>\n",
       "      <th>count</th>\n",
       "      <td>10.000000</td>\n",
       "    </tr>\n",
       "    <tr>\n",
       "      <th>mean</th>\n",
       "      <td>22.100000</td>\n",
       "    </tr>\n",
       "    <tr>\n",
       "      <th>std</th>\n",
       "      <td>1.911951</td>\n",
       "    </tr>\n",
       "    <tr>\n",
       "      <th>min</th>\n",
       "      <td>19.000000</td>\n",
       "    </tr>\n",
       "    <tr>\n",
       "      <th>25%</th>\n",
       "      <td>21.000000</td>\n",
       "    </tr>\n",
       "    <tr>\n",
       "      <th>50%</th>\n",
       "      <td>22.000000</td>\n",
       "    </tr>\n",
       "    <tr>\n",
       "      <th>75%</th>\n",
       "      <td>23.750000</td>\n",
       "    </tr>\n",
       "    <tr>\n",
       "      <th>max</th>\n",
       "      <td>25.000000</td>\n",
       "    </tr>\n",
       "  </tbody>\n",
       "</table>\n",
       "</div>"
      ],
      "text/plain": [
       "             Age\n",
       "count  10.000000\n",
       "mean   22.100000\n",
       "std     1.911951\n",
       "min    19.000000\n",
       "25%    21.000000\n",
       "50%    22.000000\n",
       "75%    23.750000\n",
       "max    25.000000"
      ]
     },
     "execution_count": 2,
     "metadata": {},
     "output_type": "execute_result"
    }
   ],
   "source": [
    "#2. describe()\n",
    "df.describe()"
   ]
  },
  {
   "cell_type": "code",
   "execution_count": 7,
   "id": "6eccd8a4",
   "metadata": {},
   "outputs": [
    {
     "data": {
      "text/html": [
       "<div>\n",
       "<style scoped>\n",
       "    .dataframe tbody tr th:only-of-type {\n",
       "        vertical-align: middle;\n",
       "    }\n",
       "\n",
       "    .dataframe tbody tr th {\n",
       "        vertical-align: top;\n",
       "    }\n",
       "\n",
       "    .dataframe thead th {\n",
       "        text-align: right;\n",
       "    }\n",
       "</style>\n",
       "<table border=\"1\" class=\"dataframe\">\n",
       "  <thead>\n",
       "    <tr style=\"text-align: right;\">\n",
       "      <th></th>\n",
       "      <th>Name</th>\n",
       "      <th>Roll no</th>\n",
       "      <th>Age</th>\n",
       "      <th>Gender</th>\n",
       "    </tr>\n",
       "  </thead>\n",
       "  <tbody>\n",
       "    <tr>\n",
       "      <th>0</th>\n",
       "      <td>A</td>\n",
       "      <td>S01</td>\n",
       "      <td>20</td>\n",
       "      <td>Male</td>\n",
       "    </tr>\n",
       "    <tr>\n",
       "      <th>1</th>\n",
       "      <td>B</td>\n",
       "      <td>S02</td>\n",
       "      <td>21</td>\n",
       "      <td>Female</td>\n",
       "    </tr>\n",
       "    <tr>\n",
       "      <th>2</th>\n",
       "      <td>C</td>\n",
       "      <td>S03</td>\n",
       "      <td>22</td>\n",
       "      <td>Female</td>\n",
       "    </tr>\n",
       "  </tbody>\n",
       "</table>\n",
       "</div>"
      ],
      "text/plain": [
       "  Name Roll no  Age  Gender\n",
       "0    A     S01   20    Male\n",
       "1    B     S02   21  Female\n",
       "2    C     S03   22  Female"
      ]
     },
     "execution_count": 7,
     "metadata": {},
     "output_type": "execute_result"
    }
   ],
   "source": [
    "#3. iloc()\n",
    "df.iloc[0:3,[0,1,2,3]]"
   ]
  },
  {
   "cell_type": "code",
   "execution_count": 8,
   "id": "43be1dfb",
   "metadata": {},
   "outputs": [
    {
     "data": {
      "text/html": [
       "<div>\n",
       "<style scoped>\n",
       "    .dataframe tbody tr th:only-of-type {\n",
       "        vertical-align: middle;\n",
       "    }\n",
       "\n",
       "    .dataframe tbody tr th {\n",
       "        vertical-align: top;\n",
       "    }\n",
       "\n",
       "    .dataframe thead th {\n",
       "        text-align: right;\n",
       "    }\n",
       "</style>\n",
       "<table border=\"1\" class=\"dataframe\">\n",
       "  <thead>\n",
       "    <tr style=\"text-align: right;\">\n",
       "      <th></th>\n",
       "      <th>Name</th>\n",
       "      <th>Roll no</th>\n",
       "      <th>Age</th>\n",
       "    </tr>\n",
       "  </thead>\n",
       "  <tbody>\n",
       "    <tr>\n",
       "      <th>0</th>\n",
       "      <td>A</td>\n",
       "      <td>S01</td>\n",
       "      <td>20</td>\n",
       "    </tr>\n",
       "    <tr>\n",
       "      <th>1</th>\n",
       "      <td>B</td>\n",
       "      <td>S02</td>\n",
       "      <td>21</td>\n",
       "    </tr>\n",
       "    <tr>\n",
       "      <th>2</th>\n",
       "      <td>C</td>\n",
       "      <td>S03</td>\n",
       "      <td>22</td>\n",
       "    </tr>\n",
       "    <tr>\n",
       "      <th>3</th>\n",
       "      <td>D</td>\n",
       "      <td>S04</td>\n",
       "      <td>23</td>\n",
       "    </tr>\n",
       "    <tr>\n",
       "      <th>4</th>\n",
       "      <td>E</td>\n",
       "      <td>S05</td>\n",
       "      <td>21</td>\n",
       "    </tr>\n",
       "  </tbody>\n",
       "</table>\n",
       "</div>"
      ],
      "text/plain": [
       "  Name Roll no  Age\n",
       "0    A     S01   20\n",
       "1    B     S02   21\n",
       "2    C     S03   22\n",
       "3    D     S04   23\n",
       "4    E     S05   21"
      ]
     },
     "execution_count": 8,
     "metadata": {},
     "output_type": "execute_result"
    }
   ],
   "source": [
    "#4. loc()\n",
    "df.loc[0:4,['Name','Roll no','Age']]"
   ]
  },
  {
   "cell_type": "code",
   "execution_count": 10,
   "id": "f6753d18",
   "metadata": {},
   "outputs": [
    {
     "data": {
      "text/html": [
       "<div>\n",
       "<style scoped>\n",
       "    .dataframe tbody tr th:only-of-type {\n",
       "        vertical-align: middle;\n",
       "    }\n",
       "\n",
       "    .dataframe tbody tr th {\n",
       "        vertical-align: top;\n",
       "    }\n",
       "\n",
       "    .dataframe thead th {\n",
       "        text-align: right;\n",
       "    }\n",
       "</style>\n",
       "<table border=\"1\" class=\"dataframe\">\n",
       "  <thead>\n",
       "    <tr style=\"text-align: right;\">\n",
       "      <th></th>\n",
       "      <th>Name</th>\n",
       "      <th>Roll no</th>\n",
       "      <th>Age</th>\n",
       "      <th>Gender</th>\n",
       "    </tr>\n",
       "  </thead>\n",
       "  <tbody>\n",
       "    <tr>\n",
       "      <th>5</th>\n",
       "      <td>F</td>\n",
       "      <td>S06</td>\n",
       "      <td>24</td>\n",
       "      <td>Male</td>\n",
       "    </tr>\n",
       "    <tr>\n",
       "      <th>6</th>\n",
       "      <td>G</td>\n",
       "      <td>S07</td>\n",
       "      <td>25</td>\n",
       "      <td>Male</td>\n",
       "    </tr>\n",
       "    <tr>\n",
       "      <th>7</th>\n",
       "      <td>H</td>\n",
       "      <td>S08</td>\n",
       "      <td>19</td>\n",
       "      <td>Female</td>\n",
       "    </tr>\n",
       "    <tr>\n",
       "      <th>8</th>\n",
       "      <td>I</td>\n",
       "      <td>S09</td>\n",
       "      <td>24</td>\n",
       "      <td>Male</td>\n",
       "    </tr>\n",
       "    <tr>\n",
       "      <th>9</th>\n",
       "      <td>J</td>\n",
       "      <td>S10</td>\n",
       "      <td>22</td>\n",
       "      <td>Male</td>\n",
       "    </tr>\n",
       "  </tbody>\n",
       "</table>\n",
       "</div>"
      ],
      "text/plain": [
       "  Name Roll no  Age  Gender\n",
       "5    F     S06   24    Male\n",
       "6    G     S07   25    Male\n",
       "7    H     S08   19  Female\n",
       "8    I     S09   24    Male\n",
       "9    J     S10   22    Male"
      ]
     },
     "execution_count": 10,
     "metadata": {},
     "output_type": "execute_result"
    }
   ],
   "source": [
    "#5. tail()\n",
    "df.tail()"
   ]
  },
  {
   "cell_type": "markdown",
   "id": "43188264",
   "metadata": {},
   "source": [
    "Q2. Give a pandas DataFrame df with columns 'A', 'B', 'C', write a python function to re-index the DataFrame with a new index\n",
    "    that starts from 1 and incremenents by 2 for each row."
   ]
  },
  {
   "cell_type": "code",
   "execution_count": 7,
   "id": "68beb926",
   "metadata": {},
   "outputs": [
    {
     "name": "stdout",
     "output_type": "stream",
     "text": [
      "    A   B    C\n",
      "1   P  20  S01\n",
      "3   Q  23  S02\n",
      "5   R  21  S03\n",
      "7   S  22  S04\n",
      "9   T  24  S05\n",
      "11  U  25  S06\n",
      "13  V  20  S07\n",
      "15  X  19  S08\n",
      "17  Y  23  S09\n",
      "19  Z  26  S10\n"
     ]
    }
   ],
   "source": [
    "#Ans:\n",
    "import pandas as pd\n",
    "data={'A':['P','Q','R','S','T','U','V','X','Y','Z'],'B':[20,23,21,22,24,25,20,19,23,26],'C':['S01','S02','S03','S04','S05','S06','S07','S08','S09','S10']}\n",
    "df=pd.DataFrame(data)\n",
    "df\n",
    "Index=list(range(1,20,2))\n",
    "def re_index():\n",
    "    df1=pd.DataFrame(data,index=Index)\n",
    "    print(df1)\n",
    "re_index()    "
   ]
  },
  {
   "cell_type": "markdown",
   "id": "e24e253a",
   "metadata": {},
   "source": [
    "Q3. You have a pandas DataFrame df with a column named 'Values'. Write a python function that iterates over the DataFrame and\n",
    "    calculates the sum of the first three values in the 'Values' column. The function should print the sum to the console."
   ]
  },
  {
   "cell_type": "code",
   "execution_count": 1,
   "id": "24ca9dd5",
   "metadata": {},
   "outputs": [
    {
     "name": "stdout",
     "output_type": "stream",
     "text": [
      "60\n"
     ]
    }
   ],
   "source": [
    "#Ans:\n",
    "import pandas as pd\n",
    "v={'values':[10,20,30,40,50]}\n",
    "df=pd.DataFrame(v)\n",
    "def calculate_sum(x):\n",
    "    sum=0\n",
    "    for i in range(0,3):\n",
    "        sum+=x['values'][i]\n",
    "    print(sum)\n",
    "calculate_sum(df)    "
   ]
  },
  {
   "cell_type": "markdown",
   "id": "da2e3c5b",
   "metadata": {},
   "source": [
    "Q4. Given a pandas DataFrame df with a column 'Text', write a python function to create a new column 'Word_Count' that contains\n",
    "    the number of words in each row of the 'Text' column."
   ]
  },
  {
   "cell_type": "code",
   "execution_count": 15,
   "id": "e67aab20",
   "metadata": {},
   "outputs": [
    {
     "name": "stdout",
     "output_type": "stream",
     "text": [
      "                 Text  Word_Count\n",
      "0         how are you           3\n",
      "1          I am a boy           4\n",
      "2          hello dear           2\n",
      "3  Wellcome to Python           3\n"
     ]
    }
   ],
   "source": [
    "#Ans:\n",
    "import pandas as pd\n",
    "t={'Text':[\"how are you\",'I am a boy','hello dear','Wellcome to Python']}\n",
    "df=pd.DataFrame(t)\n",
    "def createCol_wordCount(x):\n",
    "    w={'wordCount':[]}\n",
    "    l=[]\n",
    "    for i in x['Text']:\n",
    "       count=len(i.split())\n",
    "       l.append(count)\n",
    "    w['wordCount']=l        \n",
    "    x['Word_Count']=w['wordCount']\n",
    "    print(x)\n",
    "    \n",
    "createCol_wordCount(df)    "
   ]
  },
  {
   "cell_type": "markdown",
   "id": "c05383c3",
   "metadata": {},
   "source": [
    "Q5. How are DataFrame.size() and DataFrame.shape() different?"
   ]
  },
  {
   "cell_type": "markdown",
   "id": "edd419df",
   "metadata": {},
   "source": [
    "Ans: The size property is used to get an int representing the number of elements in an object and return the number of rows\n",
    "     if Series. Otherwise, return no of rows*no of columns if DataFrame. On the otherhand, the shape property is used to get\n",
    "     a tuple representing the dimensionality of the pandas DataFrame.\n",
    "     "
   ]
  },
  {
   "cell_type": "code",
   "execution_count": 17,
   "id": "683957d3",
   "metadata": {},
   "outputs": [
    {
     "name": "stdout",
     "output_type": "stream",
     "text": [
      "size is : 40\n",
      "shape is : (10, 4)\n"
     ]
    }
   ],
   "source": [
    "#For example:\n",
    "import pandas as pd\n",
    "df=pd.read_csv(\"test.csv\")\n",
    "size=df.size\n",
    "shape=df.shape\n",
    "print(\"size is :\",size)\n",
    "print(\"shape is :\",shape)\n"
   ]
  },
  {
   "cell_type": "markdown",
   "id": "e160254d",
   "metadata": {},
   "source": [
    "Q6. Which function of pandas do we use to read an excel file?"
   ]
  },
  {
   "cell_type": "markdown",
   "id": "91e7468c",
   "metadata": {},
   "source": [
    "Ans: read_excel() is used to read an excel file."
   ]
  },
  {
   "cell_type": "markdown",
   "id": "b72496e9",
   "metadata": {},
   "source": [
    "Q7. You have a pandas DataFrame df that contains a columned name 'Email' that contains email addresses in the format                 'username@domain.com'. Write a python function that creates a new column 'Username' in df that contains only the username        part of each email addresses. "
   ]
  },
  {
   "cell_type": "code",
   "execution_count": 7,
   "id": "b99030be",
   "metadata": {},
   "outputs": [
    {
     "name": "stdout",
     "output_type": "stream",
     "text": [
      "           Email Username\n",
      "0  abc@gmail.com      abc\n",
      "1  xyz@gmail.com      xyz\n",
      "2  pqr@gmail.com      pqr\n",
      "3  std@gmail.com      std\n"
     ]
    }
   ],
   "source": [
    "#Ans:\n",
    "import pandas as pd\n",
    "email={'Email':['abc@gmail.com','xyz@gmail.com','pqr@gmail.com','std@gmail.com']}\n",
    "df=pd.DataFrame(email)\n",
    "user_name=[]\n",
    "def createCol_username(x):\n",
    "    for i in x['Email']:\n",
    "        s=i.split(sep='@')\n",
    "        user_name.append(s[0])\n",
    "    x['Username']=user_name\n",
    "    print(x)\n",
    "createCol_username(df)    \n",
    "        \n",
    "    \n"
   ]
  },
  {
   "cell_type": "markdown",
   "id": "8b3a73b5",
   "metadata": {},
   "source": [
    "Q8. You have a Pandas DataFrame df with columns 'A','B', and 'C'. Write a Python function that selects all rows where the value\n",
    "    in column 'A' is greater than 5 and the value in column 'B' less than 10. The function should return a new DataFrame that\n",
    "    contains only the selected rows."
   ]
  },
  {
   "cell_type": "code",
   "execution_count": 7,
   "id": "16ba4fda",
   "metadata": {},
   "outputs": [
    {
     "name": "stderr",
     "output_type": "stream",
     "text": [
      "C:\\Users\\Arup\\AppData\\Local\\Temp\\ipykernel_3716\\3342368650.py:6: UserWarning: Boolean Series key will be reindexed to match DataFrame index.\n",
      "  new_DataFrame=df[df['A']>5][df['B']<10]\n"
     ]
    },
    {
     "data": {
      "text/html": [
       "<div>\n",
       "<style scoped>\n",
       "    .dataframe tbody tr th:only-of-type {\n",
       "        vertical-align: middle;\n",
       "    }\n",
       "\n",
       "    .dataframe tbody tr th {\n",
       "        vertical-align: top;\n",
       "    }\n",
       "\n",
       "    .dataframe thead th {\n",
       "        text-align: right;\n",
       "    }\n",
       "</style>\n",
       "<table border=\"1\" class=\"dataframe\">\n",
       "  <thead>\n",
       "    <tr style=\"text-align: right;\">\n",
       "      <th></th>\n",
       "      <th>A</th>\n",
       "      <th>B</th>\n",
       "      <th>C</th>\n",
       "    </tr>\n",
       "  </thead>\n",
       "  <tbody>\n",
       "    <tr>\n",
       "      <th>1</th>\n",
       "      <td>8</td>\n",
       "      <td>2</td>\n",
       "      <td>7</td>\n",
       "    </tr>\n",
       "    <tr>\n",
       "      <th>2</th>\n",
       "      <td>6</td>\n",
       "      <td>9</td>\n",
       "      <td>4</td>\n",
       "    </tr>\n",
       "    <tr>\n",
       "      <th>4</th>\n",
       "      <td>9</td>\n",
       "      <td>1</td>\n",
       "      <td>2</td>\n",
       "    </tr>\n",
       "  </tbody>\n",
       "</table>\n",
       "</div>"
      ],
      "text/plain": [
       "   A  B  C\n",
       "1  8  2  7\n",
       "2  6  9  4\n",
       "4  9  1  2"
      ]
     },
     "execution_count": 7,
     "metadata": {},
     "output_type": "execute_result"
    }
   ],
   "source": [
    "#Ans:\n",
    "import pandas as pd\n",
    "data={'A':[3,8,6,2,9],'B':[5,2,9,3,1],'C':[1,7,4,5,2]}\n",
    "df1=pd.DataFrame(data)\n",
    "def f(df):\n",
    "    new_DataFrame=df[df['A']>5][df['B']<10]\n",
    "    return new_DataFrame\n",
    "f(df1)\n"
   ]
  },
  {
   "cell_type": "markdown",
   "id": "cb21ac66",
   "metadata": {},
   "source": [
    "Q9. Given a Pandas DataFrame df with a column \"Values\". Write a python function to calculate the mean, median, and standard        deviation of the values in \"Values\" column. "
   ]
  },
  {
   "cell_type": "code",
   "execution_count": 8,
   "id": "5677ebd1",
   "metadata": {},
   "outputs": [
    {
     "name": "stdout",
     "output_type": "stream",
     "text": [
      "Mean is: 19.7\n",
      "Median is: 20.0\n",
      "Standard deviation is: 7.674633541739958\n"
     ]
    }
   ],
   "source": [
    "#Ans:\n",
    "import pandas as pd\n",
    "d={'Values':[10,11,21,26,30,15,29,11,19,25]}\n",
    "df_values=pd.DataFrame(d)\n",
    "def fun(df):\n",
    "    mean=df['Values'].mean()\n",
    "    median=df['Values'].median()\n",
    "    sd=df['Values'].std()\n",
    "    print(f\"Mean is: {mean}\")\n",
    "    print(f\"Median is: {median}\")\n",
    "    print(f\"Standard deviation is: {sd}\")\n",
    "fun(df_values)    "
   ]
  },
  {
   "cell_type": "markdown",
   "id": "1855e47a",
   "metadata": {},
   "source": [
    "Q10. Given a Pandas DataFrame df with a column \"Sales\" and a column \"Date\". Write a Python function to create a new column\n",
    "     'MovingAverage' that contains the moving average of the sales for the past 7 days for each row in the DataFrame. The moving\n",
    "     average should be calculated using a window of size 7 and should include the current day."
   ]
  },
  {
   "cell_type": "code",
   "execution_count": 9,
   "id": "7da609b1",
   "metadata": {},
   "outputs": [
    {
     "name": "stdout",
     "output_type": "stream",
     "text": [
      "   Sales       Date  MovingAverage\n",
      "0   1000 2023-07-26            NaN\n",
      "1   3500 2023-07-27            NaN\n",
      "2   2300 2023-07-28            NaN\n",
      "3   1500 2023-07-29            NaN\n",
      "4   2900 2023-07-30            NaN\n",
      "5   3100 2023-07-31            NaN\n",
      "6   1900 2023-08-01    2314.285714\n",
      "7   2500 2023-08-02    2528.571429\n",
      "8   1300 2023-08-03    2214.285714\n",
      "9   3700 2023-08-04    2414.285714\n"
     ]
    }
   ],
   "source": [
    "#Ans:\n",
    "import pandas as pd \n",
    "date=pd.date_range(start='2023-07-26',end='2023-08-04')\n",
    "d1={\"Sales\":[1000,3500,2300,1500,2900,3100,1900,2500,1300,3700],\"Date\":date}\n",
    "df_sales=pd.DataFrame(d1)\n",
    "def f3(df):\n",
    "    movingAverage=df['Sales'].rolling(window=7).mean()\n",
    "    df['MovingAverage']=movingAverage\n",
    "    print(df)\n",
    "f3(df_sales)    "
   ]
  },
  {
   "cell_type": "markdown",
   "id": "a8e710ec",
   "metadata": {},
   "source": [
    "Q11. You have a Pandas DataFrame df with a column 'Date'. Write a Python function that ceates a new column 'Weekday' in the          DataFrame. The 'Weekday' column should contain the weekday name (eg: Monday, Tuesday) corresponding to each date in the          'Date' column."
   ]
  },
  {
   "cell_type": "code",
   "execution_count": 10,
   "id": "9384c58c",
   "metadata": {},
   "outputs": [
    {
     "name": "stdout",
     "output_type": "stream",
     "text": [
      "        Date    Weekday\n",
      "0 2023-01-01     Sunday\n",
      "1 2023-01-02     Monday\n",
      "2 2023-01-03    Tuesday\n",
      "3 2023-01-04  Wednesday\n",
      "4 2023-01-05   Thursday\n"
     ]
    }
   ],
   "source": [
    "#Ans:\n",
    "import pandas as pd\n",
    "date={'date':['2023-01-01','2023-01-02','2023-01-03','2023-01-04','2023-01-05']}\n",
    "df_date=pd.DataFrame(date)\n",
    "def f4(df):\n",
    "    modified_df=pd.DataFrame()\n",
    "    modified_df[\"Date\"]=pd.to_datetime(df[\"date\"])\n",
    "    weekDay=modified_df[\"Date\"].dt.day_name()\n",
    "    modified_df['Weekday']=weekDay\n",
    "    print(modified_df)\n",
    "f4(df_date)    "
   ]
  },
  {
   "cell_type": "markdown",
   "id": "4bab2266",
   "metadata": {},
   "source": [
    "Q12. Given a Pandas DataFrame df with a column 'Date' that contains timestamps. Write a Python function to select all rows where      the data is between '2023-01-01' and '2023-01-31'."
   ]
  },
  {
   "cell_type": "code",
   "execution_count": 11,
   "id": "d13dd635",
   "metadata": {},
   "outputs": [
    {
     "name": "stdout",
     "output_type": "stream",
     "text": [
      "        Date\n",
      "1 2023-01-02\n",
      "2 2023-01-03\n",
      "3 2023-01-04\n",
      "4 2023-01-05\n",
      "5 2023-01-06\n",
      "6 2023-01-07\n",
      "7 2023-01-08\n",
      "8 2023-01-09\n"
     ]
    }
   ],
   "source": [
    "#Ans:\n",
    "import pandas as pd\n",
    "timestamp_range=pd.date_range(start='2023-01-01',end='2023-01-10')\n",
    "df_timestamp=pd.DataFrame({\"Date\":timestamp_range})\n",
    "def f5(df):\n",
    "    select_date=df.loc[(df['Date']>'2023-01-01') & (df['Date']<'2023-01-10')]\n",
    "    print(select_date)\n",
    "f5(df_timestamp)    "
   ]
  },
  {
   "cell_type": "markdown",
   "id": "6b6e4fb9",
   "metadata": {},
   "source": [
    "Q13. To use the basic functions of pandas, what is the first and foremost necessary library that needs to be import?"
   ]
  },
  {
   "cell_type": "markdown",
   "id": "3fdb6273",
   "metadata": {},
   "source": [
    "Ans: Pandas library"
   ]
  }
 ],
 "metadata": {
  "kernelspec": {
   "display_name": "Python 3 (ipykernel)",
   "language": "python",
   "name": "python3"
  },
  "language_info": {
   "codemirror_mode": {
    "name": "ipython",
    "version": 3
   },
   "file_extension": ".py",
   "mimetype": "text/x-python",
   "name": "python",
   "nbconvert_exporter": "python",
   "pygments_lexer": "ipython3",
   "version": "3.10.9"
  }
 },
 "nbformat": 4,
 "nbformat_minor": 5
}
